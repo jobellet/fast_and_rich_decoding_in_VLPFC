{
  "nbformat": 4,
  "nbformat_minor": 0,
  "metadata": {
    "colab": {
      "name": "monkeyH_PFC_VS_PPC.ipynb",
      "provenance": [],
      "collapsed_sections": [],
      "include_colab_link": true
    },
    "kernelspec": {
      "display_name": "Python 3",
      "language": "python",
      "name": "python3"
    },
    "language_info": {
      "codemirror_mode": {
        "name": "ipython",
        "version": 3
      },
      "file_extension": ".py",
      "mimetype": "text/x-python",
      "name": "python",
      "nbconvert_exporter": "python",
      "pygments_lexer": "ipython3",
      "version": "3.8.5"
    }
  },
  "cells": [
    {
      "cell_type": "markdown",
      "metadata": {
        "id": "view-in-github",
        "colab_type": "text"
      },
      "source": [
        "<a href=\"https://colab.research.google.com/github/jobellet/fast_and_rich_decoding_in_VLPFC/blob/main/monkeyH_PFC_VS_PPC.ipynb\" target=\"_parent\"><img src=\"https://colab.research.google.com/assets/colab-badge.svg\" alt=\"Open In Colab\"/></a>"
      ]
    },
    {
      "cell_type": "code",
      "metadata": {
        "colab": {
          "base_uri": "https://localhost:8080/"
        },
        "id": "LXoS8KnUCD7n",
        "outputId": "f63bb741-d102-4906-dce1-f746f024a5b6"
      },
      "source": [
        "import urllib.request\n",
        "import pandas as pd\n",
        "import numpy as np\n",
        "from sklearn.linear_model import LinearRegression, LogisticRegression\n",
        "from matplotlib import pyplot as plt\n",
        "from statsmodels.stats.multitest import multipletests\n",
        "from scipy import stats\n",
        "import numpy.matlib\n",
        "from skimage.measure import label\n",
        "import seaborn as sb\n",
        "from tqdm import tqdm\n",
        "\n",
        "\n",
        "import matplotlib\n",
        "matplotlib.rcParams['pdf.fonttype'] = 42\n",
        "matplotlib.rcParams['ps.fonttype'] = 42\n",
        "plt.rcParams['font.size'] = 12\n",
        "plt.rcParams['font.family'] = \"Arial\"\n",
        "from matplotlib import cm\n",
        "from matplotlib.colors import ListedColormap, LinearSegmentedColormap\n",
        "\n",
        "# functions for loading data\n",
        "def get_monkeyH_dfs():\n",
        "    try:\n",
        "        dfPFC = pd.read_pickle('monkeyH.pkl')\n",
        "        try:\n",
        "            dfPPC = pd.read_pickle('monkeyH_PPC.pkl')\n",
        "        except:\n",
        "            !pip3 install pickle5\n",
        "            import pickle5 as pickle\n",
        "            with open('monkeyH_PPC.pkl', \"rb\") as fh:\n",
        "                dfPPC = pickle.load(fh)\n",
        "    except:\n",
        "        link_to_monkeyH_PFC_data = 'https://figshare.com/ndownloader/files/27946635'\n",
        "        urllib.request.urlretrieve(link_to_monkeyH_PFC_data,'monkeyH.pkl')\n",
        "        dfPFC = pd.read_pickle('monkeyH.pkl')\n",
        "        \n",
        "        link_to_monkeyH_PPC_data = 'https://figshare.com/ndownloader/files/28224414'\n",
        "        urllib.request.urlretrieve(link_to_monkeyH_PPC_data,'monkeyH_PPC.pkl')\n",
        "        \n",
        "        try:\n",
        "            dfPPC = pd.read_pickle('monkeyH_PPC.pkl')\n",
        "        except:\n",
        "            !pip3 install pickle5\n",
        "            import pickle5 as pickle\n",
        "            with open('monkeyH_PPC.pkl', \"rb\") as fh:\n",
        "                dfPPC = pickle.load(fh)\n",
        "            \n",
        "    return dfPFC,dfPPC\n",
        "\n",
        "# functions for PSTH\n",
        "def getSpikemat(spiketimes,mint=-.1,maxt=.4):\n",
        "    '''\n",
        "    Bin spiketimes at 1 kHz, single stimuli / trials\n",
        "    '''\n",
        "    t_total = int((maxt-mint)*1000) # total time bins\n",
        "    nch = len(spiketimes)\n",
        "    spikemat = np.zeros((nch,t_total)).astype(bool)\n",
        "    for ch in range(nch):\n",
        "        tms = np.round(spiketimes[ch]*1000).astype(int) - 1 #0-indexing\n",
        "        \n",
        "        tms = tms[(tms>=mint*1000) & (tms<maxt*1000)] - int(mint*1000)\n",
        "        if len(tms)>0:\n",
        "            spikemat[ch,tms] = 1\n",
        "   \n",
        "    return spikemat\n",
        "\n",
        "def gen_time_bin(binsize,overlap,mint=-.1,maxt=.4):\n",
        "    all_bins = []\n",
        "    for i in range(int(binsize/overlap)):\n",
        "        all_bins.append(np.arange(mint,maxt,binsize)+overlap*i)\n",
        "    time_bins = np.sort(np.concatenate(all_bins)).astype(int)\n",
        "    return(time_bins)\n",
        "\n",
        "def rate_binning(spike_times,time_bins,binsize):\n",
        "    time_bins = time_bins/1000 # convert in s\n",
        "    binsize = binsize/1000 # convert in s\n",
        "    average = np.zeros((len(spike_times),len(time_bins)))\n",
        "    for i,t in enumerate(time_bins):\n",
        "        \n",
        "        for chan in range(len(spike_times)):\n",
        "            include = (spike_times[chan]>t) & (spike_times[chan]<(t+binsize))\n",
        "            average[chan,i] = sum(include)/binsize\n",
        "    return(average)\n",
        "\n",
        "# function for cluster correction for multiple comparisons\n",
        "def cluster_perm(real_data,permutations,pval_roi_threshold,pval_threshold):\n",
        "    \n",
        "    mean_perm = np.mean(permutations,axis = 0)\n",
        "    std_perm = np.std(permutations,axis = 0)\n",
        "    tval = (real_data-mean_perm)/std_perm\n",
        "    pval = np.mean(np.matlib.repmat(real_data,permutations.shape[0],1) <= permutations,axis = 0)\n",
        "    clusters = label(pval<pval_roi_threshold)\n",
        "    sum_tvals = []\n",
        "    significant_points = np.zeros_like(real_data).astype(bool)\n",
        "    for i in range(max(clusters)):\n",
        "        sum_tvals.append(sum(tval[clusters == (i+1)]))\n",
        "    \n",
        "    max_sum_tvals_perm = np.zeros(permutations.shape[0])\n",
        "    for i in range(permutations.shape[0]):\n",
        "        real_data_perm = permutations[i,:]\n",
        "        tvalperm = (real_data_perm-mean_perm)/std_perm\n",
        "        pvalperm = np.mean(np.matlib.repmat(real_data_perm,permutations.shape[0]-1,1) <= np.delete(permutations,i,axis = 0),axis = 0)\n",
        "        clusters_perm = label(pvalperm<pval_roi_threshold)\n",
        "        sum_tvals_perm = []\n",
        "        for j in range(max(clusters_perm)):\n",
        "            sum_tvals_perm.append(sum(tvalperm[clusters_perm == (j+1)]))\n",
        "        \n",
        "        if len(sum_tvals_perm)>0:\n",
        "            max_sum_tvals_perm[i] = np.max(sum_tvals_perm)\n",
        "    for i in range(max(clusters)):\n",
        "        if np.mean(sum_tvals[i]<max_sum_tvals_perm)<pval_threshold:\n",
        "            significant_points[clusters == (i+1)] = True\n",
        "    return(significant_points)\n",
        "\n",
        "# global parameters\n",
        "nch = 96 # number of channels in the Utah array\n",
        "sf = 30000; # sampling frequency\n",
        "tmin = -100 #ms, time before each stim\n",
        "tmax = 600 #ms, time after each stim\n",
        "\n",
        "# parameters for binning and normalization\n",
        "binsize = 50 #ms\n",
        "overlap = 25 #ms\n",
        "time_bins = gen_time_bin(binsize,overlap,mint=tmin,maxt=tmax)\n",
        "dfPFC,dfPPC = get_monkeyH_dfs()\n"
      ],
      "execution_count": null,
      "outputs": [
        {
          "output_type": "stream",
          "name": "stderr",
          "text": [
            "/usr/local/lib/python3.7/dist-packages/statsmodels/tools/_testing.py:19: FutureWarning: pandas.util.testing is deprecated. Use the functions in the public API at pandas.testing instead.\n",
            "  import pandas.util.testing as tm\n"
          ]
        },
        {
          "output_type": "stream",
          "name": "stdout",
          "text": [
            "Collecting pickle5\n",
            "  Downloading pickle5-0.0.11.tar.gz (132 kB)\n",
            "\u001b[K     |████████████████████████████████| 132 kB 5.0 MB/s \n",
            "\u001b[?25hBuilding wheels for collected packages: pickle5\n",
            "  Building wheel for pickle5 (setup.py) ... \u001b[?25l\u001b[?25hdone\n",
            "  Created wheel for pickle5: filename=pickle5-0.0.11-cp37-cp37m-linux_x86_64.whl size=219308 sha256=7db67a66276988a9224d0da00266d2ba24c8219c8c897cbc8c53a1730b62ce51\n",
            "  Stored in directory: /root/.cache/pip/wheels/7e/6a/00/67136a90d6aca437d806d1d3cedf98106e840c97a3e5188198\n",
            "Successfully built pickle5\n",
            "Installing collected packages: pickle5\n",
            "Successfully installed pickle5-0.0.11\n"
          ]
        }
      ]
    },
    {
      "cell_type": "markdown",
      "metadata": {
        "id": "6eihfv5gcBUF"
      },
      "source": [
        "## Obtain normalized firing rate from spike time "
      ]
    },
    {
      "cell_type": "code",
      "metadata": {
        "id": "EgTwzb18bNg8"
      },
      "source": [
        "compute_this_step = False # if set to False, to save time, this cell will just download the precomputed firing rate instead of reproducing this step\n",
        "\n",
        "\n",
        "def get_monkeyH_firing_rate():\n",
        "    try:\n",
        "        Rb = np.load('monkeyH_PFC_raw_firing_rate.npy')\n",
        "        Rc = np.load('monkeyH_PFC_normalized_firing_rate.npy')\n",
        "        \n",
        "    except:\n",
        "        link_to_monkeyH_raw_firing_rate_PFC = 'https://figshare.com/ndownloader/files/27968229'\n",
        "        urllib.request.urlretrieve(link_to_monkeyH_raw_firing_rate_PFC,'monkeyH_PFC_raw_firing_rate.npy')\n",
        "        \n",
        "        \n",
        "        link_to_monkeyH_nomalized_firing_rate_PFC = 'https://figshare.com/ndownloader/files/27968235'\n",
        "        urllib.request.urlretrieve(link_to_monkeyH_nomalized_firing_rate_PFC,'monkeyH_PFC_normalized_firing_rate.npy')\n",
        "        Rb = np.load('monkeyH_PFC_raw_firing_rate.npy')\n",
        "        Rc = np.load('monkeyH_PFC_normalized_firing_rate.npy')\n",
        "    \n",
        "    try:\n",
        "        PPC_Rb = np.load('monkeyH_PPC_raw_firing_rate.npy')\n",
        "        PPC_Rc = np.load('monkeyH_PPC_normalized_firing_rate.npy')\n",
        "    except:\n",
        "        link_to_monkeyH_raw_firing_rate_PPC = 'https://figshare.com/ndownloader/files/28019382'\n",
        "        urllib.request.urlretrieve(link_to_monkeyH_raw_firing_rate_PPC,'monkeyH_PPC_raw_firing_rate.npy')\n",
        "        \n",
        "        link_to_monkeyH_nomalized_firing_rate_PPC = 'https://figshare.com/ndownloader/files/28019376'\n",
        "        urllib.request.urlretrieve(link_to_monkeyH_nomalized_firing_rate_PPC,'monkeyH_PPC_normalized_firing_rate.npy')\n",
        "        PPC_Rb = np.load('monkeyH_PPC_raw_firing_rate.npy')\n",
        "        PPC_Rc = np.load('monkeyH_PPC_normalized_firing_rate.npy')\n",
        "    return Rb,Rc,PPC_Rb,PPC_Rc\n",
        "\n",
        "if compute_this_step:\n",
        "    # create PFC PSTH\n",
        "    ntr = len(dfPFC) # number of stimuli presentations\n",
        "\n",
        "    nbins = len(time_bins)\n",
        "    Rb = np.zeros((ntr,nch,nbins)) # this will store the firing rate\n",
        "    Rc = np.zeros((ntr,nch,nbins)) # this will store the normalized firing rate\n",
        "    for tr in tqdm(range(ntr)): # loop through every stimuli presentations\n",
        "        Rb[tr,:] = rate_binning(dfPFC['Spikes'].iloc[tr],time_bins,binsize)\n",
        "        \n",
        "    ## center each channel\n",
        "    for sesID in np.unique(np.array(dfPFC.sesID)):\n",
        "        for ch in range(nch):\n",
        "            Rc[dfPFC.sesID == sesID,ch,:] = (Rb[dfPFC.sesID == sesID,ch,:] - np.mean(Rb[dfPFC.sesID == sesID,ch,:])) / (np.std(Rb[dfPFC.sesID == sesID,ch,:]) + 10e-6) # center each channel for each session independentl\n",
        "    np.save('monkeyH_PFC_raw_firing_rate.npy',Rb)\n",
        "    np.save('monkeyH_PFC_normalized_firing_rate.npy',Rc)\n",
        "    \n",
        "    # create PPC PSTH\n",
        "    ntr = len(dfPPC) # number of stimuli presentations\n",
        "\n",
        "    nbins = len(time_bins)\n",
        "    PPC_Rb = np.zeros((ntr,nch,nbins)) # this will store the firing rate\n",
        "    PPC_Rc = np.zeros((ntr,nch,nbins)) # this will store the normalized firing rate\n",
        "    for tr in tqdm(range(ntr)): # loop through every stimuli presentations\n",
        "        PPC_Rb[tr,:] = rate_binning(dfPPC['PPC_Spikes'].iloc[tr],time_bins,binsize)\n",
        "        \n",
        "    ## center each channel\n",
        "    for sesID in np.unique(np.array(dfPPC.sesID)):\n",
        "        for ch in range(nch):\n",
        "            PPC_Rc[dfPPC.sesID == sesID,ch,:] = (PPC_Rb[dfPPC.sesID == sesID,ch,:] - np.mean(PPC_Rb[dfPPC.sesID == sesID,ch,:])) / (np.std(PPC_Rb[dfPPC.sesID == sesID,ch,:]) + 10e-6) # center each channel for each session independentl\n",
        "    np.save('monkeyH_PPC_raw_firing_rate.npy',PPC_Rb)\n",
        "    np.save('monkeyH_PPC_normalized_firing_rate.npy',PPC_Rc)\n",
        "else:\n",
        "    Rb,Rc,PPC_Rb,PPC_Rc = get_monkeyH_firing_rate()"
      ],
      "execution_count": null,
      "outputs": []
    },
    {
      "cell_type": "markdown",
      "metadata": {
        "id": "ZZRMLgoEDOrN"
      },
      "source": [
        "# Find visually responsive channels in PPC"
      ]
    },
    {
      "cell_type": "code",
      "metadata": {
        "id": "FrVtDf2_DOrO"
      },
      "source": [
        "def get_usefull_channels(df,Rb,t):\n",
        "    \n",
        "    baseline = np.mean(Rb[:,:,0],axis =0)\n",
        "    live_channels = baseline>1\n",
        "    \n",
        "    all_amp = np.zeros((96,len(t)))\n",
        "\n",
        "    stimuli = np.unique(np.array(df.StimID).astype(int));\n",
        "    \n",
        "    outstat= np.zeros(96).astype(int)\n",
        "    for i in range(96):\n",
        "        if live_channels[i]:\n",
        "            temp = np.zeros((18,len(t)))\n",
        "            variation = np.zeros((18,2))\n",
        "            for stm in stimuli:\n",
        "                indx = np.where(df.StimID == stm)\n",
        "                average_rate = np.mean(np.squeeze(Rb[indx,i,:]),axis = 0)-baseline[i]\n",
        "                temp[stm,:] = abs(average_rate)\n",
        "                \n",
        "                variation[stm,0]=abs(np.mean(average_rate[(t>t[1]) & (t<=50)]))\n",
        "                variation[stm,1]=abs(np.mean(average_rate[(t>=100) & (t<=200)]))\n",
        "            outstat[i] = stats.ttest_rel(variation[:,0],variation[:,1])[0]<-1.9\n",
        "        else:\n",
        "            outstat[i] = 0\n",
        "    \n",
        "    return(outstat)"
      ],
      "execution_count": null,
      "outputs": []
    },
    {
      "cell_type": "code",
      "metadata": {
        "id": "wAlcyaARDOrO",
        "colab": {
          "base_uri": "https://localhost:8080/"
        },
        "outputId": "fae2c8b8-6cd3-42ba-8a58-b3d4e7074210"
      },
      "source": [
        "t = gen_time_bin(binsize,overlap,mint=tmin,maxt=tmax)+50 \n",
        "outPFC = get_usefull_channels(dfPFC,Rb,t)\n",
        "print(sum(outPFC))\n",
        "outPPC = get_usefull_channels(dfPPC,PPC_Rb,t)\n",
        "print(sum(outPPC))"
      ],
      "execution_count": null,
      "outputs": [
        {
          "output_type": "stream",
          "name": "stdout",
          "text": [
            "20\n",
            "25\n"
          ]
        }
      ]
    },
    {
      "cell_type": "code",
      "metadata": {
        "id": "m_bCNSFnDOrP"
      },
      "source": [
        "maximal_chan_num = np.min((sum(outPFC),sum(outPPC)))\n",
        "left_out = np.round(.1*maximal_chan_num).astype(int)\n",
        "RSVP_PPC = (np.array(dfPPC.TrialID)==100)  # select only stimuli presentation being followed by an other stimulus 100 ms after the onset\n",
        "RSVP_PPC = RSVP_PPC & np.concatenate(([False],RSVP_PPC[:-1])) # select only stimuli presentation being preceded by an other stimulus 100 ms before the onset\n",
        "\n",
        "RSVP_PFC = np.array(dfPFC.duration >= 0.040) & np.array(dfPFC.duration <= 0.060) & np.array(dfPFC.TrialID < 110)\n",
        "RSVP_PFC = RSVP_PFC & np.concatenate(([False],RSVP_PFC[:-1]))\n",
        "\n",
        "single_stim_PPC = np.array(dfPPC.TrialID)>500\n",
        "single_stim_PPC = single_stim_PPC & np.concatenate(([False],single_stim_PPC[:-1]))\n",
        "\n",
        "single_stim_PFC = np.array(dfPFC.TrialID)>390\n",
        "single_stim_PFC = single_stim_PFC & np.concatenate(([False],single_stim_PFC[:-1]))\n",
        "maximal_training_stims = np.min((sum(RSVP_PPC),sum(RSVP_PFC)))\n",
        "maximal_training_stims_single_stim = np.min((sum(single_stim_PPC),sum(single_stim_PFC)))"
      ],
      "execution_count": null,
      "outputs": []
    },
    {
      "cell_type": "markdown",
      "metadata": {
        "id": "4-qIcwTdM1c2"
      },
      "source": [
        "# Estimate difference in accuracy between PFC and PPC with classifiers trained with stimuli in isolation/slow pace"
      ]
    },
    {
      "cell_type": "code",
      "metadata": {
        "id": "i3elTsfwDOrS",
        "colab": {
          "base_uri": "https://localhost:8080/"
        },
        "outputId": "6c6eb922-c004-4045-a8ad-89d488df0545"
      },
      "source": [
        "stims =np.unique(dfPPC.StimID).astype(int)\n",
        "nstim = len(stims)\n",
        "\n",
        "t = gen_time_bin(binsize,overlap,mint=tmin,maxt=tmax)\n",
        "nperm = 50;\n",
        "K = 10 # number of training folds\n",
        "# index\n",
        "\n",
        "\n",
        "accuracy_PPC_single_stim = np.zeros((nperm,len(t)))\n",
        "accuracy_PPC_RSVP = np.zeros((nperm,len(t)))\n",
        "\n",
        "\n",
        "nbins = len(t) # number of time bins\n",
        "\n",
        "for perm in tqdm(range(nperm)):\n",
        "    selected_chan = np.where(outPPC.astype(bool))[0];\n",
        "    selected_chan = selected_chan[np.random.permutation(len(selected_chan))][:maximal_chan_num-left_out]\n",
        "    \n",
        "    temp = np.where(single_stim_PPC)[0]  # select only stimuli presentation being followed by an other stimulus 100 ms after the onset\n",
        "    temp = temp[np.random.permutation(len(temp))][:maximal_training_stims_single_stim]\n",
        "    training_stims = np.zeros_like(single_stim_PPC).astype(bool)\n",
        "    training_stims[temp] = True\n",
        "\n",
        "    X = PPC_Rc[:,selected_chan,:] # The firing rate\n",
        "    Y = np.array(dfPPC.StimID).astype(int)\n",
        "    ntr = X.shape[0]\n",
        "    ntest = int(ntr/K)\n",
        "    shuffle = np.random.permutation(ntr)# permutation of every trial\n",
        "    Coef = np.zeros((nstim,X.shape[1],nbins,K) )# regression coefficient prealocation\n",
        "    Proba = np.zeros((ntr,nstim,nbins))# predictive probability prealocation\n",
        "    for k in range(K):\n",
        "        testind = shuffle[k*ntest:(k+1)*ntest] # index of trial being tested\n",
        "        if k == K-1:\n",
        "            testind = shuffle[k*ntest:] \n",
        "        Ytest = Y[testind].astype(int)\n",
        "        trainind = np.delete(shuffle,np.arange(k*ntest,(k+1)*ntest)) # index of trial being used for training\n",
        "        trainind = trainind[training_stims[trainind]] # Keeping only long ISI \n",
        "        Xtrain = X[trainind,:]\n",
        "        Ytrain = Y[trainind]\n",
        "\n",
        "        for b in range(nbins):\n",
        "            model = LogisticRegression(fit_intercept=False,solver='lbfgs',multi_class='auto',max_iter=10000).fit(Xtrain[:,:,b],Ytrain)\n",
        "            Coef[:,:,b,k] = model.coef_\n",
        "            Proba[testind,:,b] = model.predict_proba(X[testind,:,b])\n",
        "    \n",
        "    all_single_stim = np.zeros((18,len(t)))\n",
        "    all_RSVP  = np.zeros((18,len(t)))\n",
        "\n",
        "    for n in stims:\n",
        "        # in isolation\n",
        "        isolated = np.argmax(Proba[single_stim_PPC & (dfPPC.StimID == n),:],axis = 1) == n\n",
        "        all_single_stim[n,:] = np.mean(isolated, axis = 0)\n",
        "        # in RSVP\n",
        "        inRSVP = np.argmax(Proba[RSVP_PPC & (dfPPC.StimID == n),:],axis = 1) == n\n",
        "        all_RSVP[n,:] = np.mean(inRSVP, axis = 0)\n",
        "    accuracy_PPC_single_stim[perm,:] = np.mean(all_single_stim,axis = 0)\n",
        "    accuracy_PPC_RSVP[perm,:] = np.mean(all_RSVP,axis = 0)"
      ],
      "execution_count": null,
      "outputs": [
        {
          "output_type": "stream",
          "name": "stderr",
          "text": [
            "100%|██████████| 50/50 [08:56<00:00, 10.73s/it]\n"
          ]
        }
      ]
    },
    {
      "cell_type": "code",
      "metadata": {
        "id": "ZiCQk8IoDOrT",
        "colab": {
          "base_uri": "https://localhost:8080/"
        },
        "outputId": "ce580b80-56d1-4944-bb9a-d5b91df4813b"
      },
      "source": [
        "nstim = len(np.unique(dfPFC.StimID))\n",
        "\n",
        "t = gen_time_bin(binsize,overlap,mint=tmin,maxt=tmax)\n",
        "nperm = 50;\n",
        "K = 10 # number of training folds\n",
        "# index\n",
        "\n",
        "\n",
        "accuracy_PFC_single_stim = np.zeros((nperm,len(t)))\n",
        "accuracy_PFC_RSVP = np.zeros((nperm,len(t)))\n",
        "\n",
        "nbins = len(t) # number of time bins\n",
        "        \n",
        "if True:#reproduce_all:\n",
        "    \n",
        "        \n",
        "    for perm in tqdm(range(nperm)):\n",
        "        selected_chan = np.where(outPFC.astype(bool))[0];\n",
        "        selected_chan = selected_chan[np.random.permutation(len(selected_chan))][:maximal_chan_num-left_out]\n",
        "        \n",
        "        temp = np.where(single_stim_PFC)[0]  # select only stimuli presentation being followed by an other stimulus 100 ms after the onset\n",
        "        temp = temp[np.random.permutation(len(temp))][:maximal_training_stims_single_stim]\n",
        "        training_stims = np.zeros_like(single_stim_PFC).astype(bool)\n",
        "        training_stims[temp] = True\n",
        "\n",
        "        X = Rc[:,selected_chan,:] # The firing rate\n",
        "        Y = np.array(dfPFC.StimID).astype(int)\n",
        "        ntr = X.shape[0]\n",
        "        ntest = int(ntr/K)\n",
        "        shuffle = np.random.permutation(ntr)# permutation of every trial\n",
        "        Coef = np.zeros((nstim,X.shape[1],nbins,K) )# regression coefficient prealocation\n",
        "        Proba = np.zeros((ntr,nstim,nbins))# predictive probability prealocation\n",
        "        for k in range(K):\n",
        "            testind = shuffle[k*ntest:(k+1)*ntest] # index of trial being tested\n",
        "            if k == K-1:\n",
        "                testind = shuffle[k*ntest:] \n",
        "            Ytest = Y[testind].astype(int)\n",
        "            trainind = np.delete(shuffle,np.arange(k*ntest,(k+1)*ntest)) # index of trial being used for training\n",
        "            trainind = trainind[training_stims[trainind]] # Keeping only long ISI \n",
        "            Xtrain = X[trainind,:]\n",
        "            Ytrain = Y[trainind]\n",
        "\n",
        "            for b in range(nbins):\n",
        "                model = LogisticRegression(fit_intercept=False,solver='lbfgs',multi_class='auto',max_iter=10000).fit(Xtrain[:,:,b],Ytrain)\n",
        "                Coef[:,:,b,k] = model.coef_\n",
        "                Proba[testind,:,b] = model.predict_proba(X[testind,:,b])\n",
        "\n",
        "        all_single_stim = np.zeros((18,len(t)))\n",
        "        all_RSVP  = np.zeros((18,len(t)))\n",
        "\n",
        "        for n in stims:\n",
        "            # in isolation\n",
        "            isolated = np.argmax(Proba[single_stim_PFC & (dfPFC.StimID == n),:],axis = 1) == n\n",
        "            all_single_stim[n,:] = np.mean(isolated, axis = 0)\n",
        "            # in RSVP\n",
        "            inRSVP = np.argmax(Proba[RSVP_PFC & (dfPFC.StimID == n),:],axis = 1) == n\n",
        "            all_RSVP[n,:] = np.mean(inRSVP, axis = 0)\n",
        "        accuracy_PFC_single_stim[perm,:] = np.mean(all_single_stim,axis = 0)\n",
        "        accuracy_PFC_RSVP[perm,:] = np.mean(all_RSVP,axis = 0)"
      ],
      "execution_count": null,
      "outputs": [
        {
          "output_type": "stream",
          "name": "stderr",
          "text": [
            "100%|██████████| 50/50 [17:06<00:00, 20.53s/it]\n"
          ]
        }
      ]
    },
    {
      "cell_type": "markdown",
      "metadata": {
        "id": "MSKX34blNGrc"
      },
      "source": [
        "## Figure S5 C and D"
      ]
    },
    {
      "cell_type": "code",
      "metadata": {
        "id": "GAnbLW4JDOrT",
        "colab": {
          "base_uri": "https://localhost:8080/",
          "height": 386
        },
        "outputId": "efe23eb7-51d6-4c95-e4ee-037655fb66f3"
      },
      "source": [
        "nperm = 2000\n",
        "fig,ax = plt.subplots(1,2,figsize = (10,5),sharey = True)\n",
        "\n",
        "real_diff = accuracy_PPC_single_stim-accuracy_PFC_single_stim\n",
        "permutdiff = np.zeros((nperm,real_diff.shape[1]))\n",
        "for i in range(nperm):\n",
        "    permutdiff[i,:] = abs(np.mean(np.matlib.repmat(np.sign(np.random.rand(real_diff.shape[0])-.5),real_diff.shape[1],1).transpose()*real_diff))\n",
        "sigpoints = cluster_perm(abs(np.mean(real_diff,axis = 0)),permutdiff,.001,.001)\n",
        "\n",
        "t = gen_time_bin(binsize,overlap,mint=tmin,maxt=tmax)+50\n",
        "\n",
        "high_bound = np.sort(accuracy_PPC_single_stim,axis = 0)[49,:]\n",
        "low_bound = np.sort(accuracy_PPC_single_stim,axis = 0)[1,:]\n",
        "ax[0].fill_between(t,high_bound,low_bound,alpha= 0.7,linewidth = 0,color = [1,0.7,0])\n",
        "ax[0].plot(t,np.mean(accuracy_PPC_single_stim, axis = 0),color = [1,0.7,0])\n",
        "\n",
        "high_bound = np.sort(accuracy_PFC_single_stim,axis = 0)[49,:]\n",
        "low_bound = np.sort(accuracy_PFC_single_stim,axis = 0)[1,:]\n",
        "ax[0].fill_between(t,high_bound,low_bound,alpha= 0.5,linewidth = 0,color = [0,0.6,0.8])\n",
        "ax[0].plot(t,np.mean(accuracy_PFC_single_stim, axis = 0),color = [0,0.6,0.8])\n",
        "\n",
        "clusters = label(sigpoints)\n",
        "for k in np.arange(1,max(clusters)+1):\n",
        "    ax[0].plot(t[clusters==k],np.ones(sum(clusters==k))*0, color = 'k',linewidth = 2) \n",
        "\n",
        "ax[0].set_xlabel('Time from stimulus onset (ms)')\n",
        "ax[0].set_ylabel('Decoding accuracy')\n",
        "ax[0].set_title('Tested on single stim')\n",
        "\n",
        "\n",
        "## Plot the accuracy on the RSVP condition\n",
        "real_diff = accuracy_PPC_RSVP-accuracy_PFC_RSVP\n",
        "permutdiff = np.zeros((nperm,real_diff.shape[1]))\n",
        "for i in range(nperm):\n",
        "    permutdiff[i,:] = abs(np.mean(np.matlib.repmat(np.sign(np.random.rand(real_diff.shape[0])-.5),real_diff.shape[1],1).transpose()*real_diff))\n",
        "sigpoints = cluster_perm(abs(np.mean(real_diff,axis = 0)),permutdiff,.001,.001)\n",
        "\n",
        "t = gen_time_bin(binsize,overlap,mint=tmin,maxt=tmax)+50\n",
        "\n",
        "\n",
        "high_bound = np.sort(accuracy_PPC_RSVP,axis = 0)[49,:]\n",
        "low_bound = np.sort(accuracy_PPC_RSVP,axis = 0)[1,:]\n",
        "ax[1].fill_between(t,high_bound,low_bound,alpha= 0.7,linewidth = 0,color = [1,0.7,0])\n",
        "ax[1].plot(t,np.mean(accuracy_PPC_RSVP, axis = 0),color = [1,0.7,0])\n",
        "\n",
        "high_bound = np.sort(accuracy_PFC_RSVP,axis = 0)[49,:]\n",
        "low_bound = np.sort(accuracy_PFC_RSVP,axis = 0)[1,:]\n",
        "ax[1].fill_between(t,high_bound,low_bound,alpha= 0.5,linewidth = 0,color = [0,0.6,0.8])\n",
        "ax[1].plot(t,np.mean(accuracy_PFC_RSVP, axis = 0),color = [0,0.6,0.8])\n",
        "\n",
        "clusters = label(sigpoints)\n",
        "for k in np.arange(1,max(clusters)+1):\n",
        "    ax[1].plot(t[clusters==k],np.ones(sum(clusters==k))*0, color = 'k',linewidth = 2) \n",
        "\n",
        "ax[1].set_xlabel('Time from stimulus onset (ms)')\n",
        "ax[1].set_ylabel('Decoding accuracy')\n",
        "ax[1].set_title('Tested on RSVP')\n",
        "sb.despine()\n",
        "fig.savefig('monkeyH_PFC_VS_PPC_isolated.pdf')"
      ],
      "execution_count": null,
      "outputs": [
        {
          "output_type": "stream",
          "name": "stderr",
          "text": [
            "findfont: Font family ['Arial'] not found. Falling back to DejaVu Sans.\n",
            "findfont: Font family ['Arial'] not found. Falling back to DejaVu Sans.\n"
          ]
        },
        {
          "output_type": "display_data",
          "data": {
            "image/png": "[encoded data removed]",
            "text/plain": [
              "<Figure size 720x360 with 2 Axes>"
            ]
          },
          "metadata": {
            "needs_background": "light"
          }
        }
      ]
    },
    {
      "cell_type": "markdown",
      "metadata": {
        "id": "SydBdqwmDOrQ"
      },
      "source": [
        "# Estimate difference in accuracy between PFC and PPC for stimuli in RSVP sequences"
      ]
    },
    {
      "cell_type": "code",
      "metadata": {
        "id": "zB2Me-iDDOrQ",
        "colab": {
          "base_uri": "https://localhost:8080/"
        },
        "outputId": "c2846084-6a79-499b-de37-79c32abbe344"
      },
      "source": [
        "nstim = len(np.unique(dfPPC.StimID))\n",
        "\n",
        "t = gen_time_bin(binsize,overlap,mint=tmin,maxt=tmax)\n",
        "nperm = 50;\n",
        "K = 10 # number of training folds\n",
        "# index\n",
        "\n",
        "accuracy_PPC_single_stim = np.zeros((nperm,len(t)))\n",
        "accuracy_PPC_RSVP = np.zeros((nperm,len(t)))\n",
        "\n",
        "nbins = len(t) # number of time bins\n",
        "        \n",
        "   \n",
        "for perm in tqdm(range(nperm)):\n",
        "    selected_chan = np.where(outPPC.astype(bool))[0];\n",
        "    selected_chan = selected_chan[np.random.permutation(len(selected_chan))][:maximal_chan_num-left_out]\n",
        "    \n",
        "    temp = np.where(RSVP_PPC)[0]  # select only stimuli presentation being followed by an other stimulus 100 ms after the onset\n",
        "    temp = temp[np.random.permutation(len(temp))][:maximal_training_stims]\n",
        "    training_stims = np.zeros_like(RSVP_PPC).astype(bool)\n",
        "    training_stims[temp] = True\n",
        "\n",
        "    X = PPC_Rc[:,selected_chan,:] # The firing rate\n",
        "    Y = np.array(dfPPC.StimID).astype(int)\n",
        "    ntr = X.shape[0]\n",
        "    ntest = int(ntr/K)\n",
        "    shuffle = np.random.permutation(ntr)# permutation of every trial\n",
        "    Coef = np.zeros((nstim,X.shape[1],nbins,K) )# regression coefficient prealocation\n",
        "    Proba = np.zeros((ntr,nstim,nbins))# predictive probability prealocation\n",
        "    for k in range(K):\n",
        "        testind = shuffle[k*ntest:(k+1)*ntest] # index of trial being tested\n",
        "        if k == K-1:\n",
        "            testind = shuffle[k*ntest:] \n",
        "        Ytest = Y[testind].astype(int)\n",
        "        trainind = np.delete(shuffle,np.arange(k*ntest,(k+1)*ntest)) # index of trial being used for training\n",
        "        trainind = trainind[training_stims[trainind]] # Keeping only long ISI \n",
        "        Xtrain = X[trainind,:]\n",
        "        Ytrain = Y[trainind]\n",
        "\n",
        "        for b in range(nbins):\n",
        "            model = LogisticRegression(fit_intercept=False,solver='lbfgs',multi_class='auto',max_iter=10000).fit(Xtrain[:,:,b],Ytrain)\n",
        "            Coef[:,:,b,k] = model.coef_\n",
        "            Proba[testind,:,b] = model.predict_proba(X[testind,:,b])\n",
        "\n",
        "    all_single_stim = np.zeros((18,len(t)))\n",
        "    all_RSVP  = np.zeros((18,len(t)))\n",
        "\n",
        "    for n in stims:\n",
        "        # in isolation\n",
        "        isolated = np.argmax(Proba[single_stim_PPC & (dfPPC.StimID == n),:],axis = 1) == n\n",
        "        all_single_stim[n,:] = np.mean(isolated, axis = 0)\n",
        "        # in RSVP\n",
        "        inRSVP = np.argmax(Proba[RSVP_PPC & (dfPPC.StimID == n),:],axis = 1) == n\n",
        "        all_RSVP[n,:] = np.mean(inRSVP, axis = 0)\n",
        "    accuracy_PPC_single_stim[perm,:] = np.mean(all_single_stim,axis = 0)\n",
        "    accuracy_PPC_RSVP[perm,:] = np.mean(all_RSVP,axis = 0)"
      ],
      "execution_count": null,
      "outputs": [
        {
          "output_type": "stream",
          "name": "stderr",
          "text": [
            "100%|██████████| 50/50 [16:09<00:00, 19.38s/it]\n"
          ]
        }
      ]
    },
    {
      "cell_type": "code",
      "metadata": {
        "id": "3C3-Z3V5DOrR",
        "colab": {
          "base_uri": "https://localhost:8080/"
        },
        "outputId": "046cdd29-e46f-4dbd-e097-e1af58a7ff10"
      },
      "source": [
        "nstim = len(np.unique(dfPFC.StimID))\n",
        "\n",
        "t = gen_time_bin(binsize,overlap,mint=tmin,maxt=tmax)\n",
        "nperm = 50;\n",
        "K = 10 # number of training folds\n",
        "# index\n",
        "\n",
        "accuracy_PFC_single_stim = np.zeros((nperm,len(t)))\n",
        "accuracy_PFC_RSVP = np.zeros((nperm,len(t)))\n",
        "\n",
        "\n",
        "nbins = len(t) # number of time bins\n",
        "     \n",
        "for perm in tqdm(range(nperm)):\n",
        "    selected_chan = np.where(outPFC.astype(bool))[0];\n",
        "    selected_chan = selected_chan[np.random.permutation(len(selected_chan))][:maximal_chan_num-left_out]\n",
        "    \n",
        "    temp = np.where(RSVP_PFC)[0]  # select only stimuli presentation being followed by an other stimulus 100 ms after the onset\n",
        "    temp = temp[np.random.permutation(len(temp))][:maximal_training_stims]\n",
        "    training_stims = np.zeros_like(RSVP_PFC).astype(bool)\n",
        "    training_stims[temp] = True\n",
        "\n",
        "    X = Rc[:,selected_chan,:] # The firing rate\n",
        "    Y = np.array(dfPFC.StimID).astype(int)\n",
        "    ntr = X.shape[0]\n",
        "    ntest = int(ntr/K)\n",
        "    shuffle = np.random.permutation(ntr)# permutation of every trial\n",
        "    Coef = np.zeros((nstim,X.shape[1],nbins,K) )# regression coefficient prealocation\n",
        "    Proba = np.zeros((ntr,nstim,nbins))# predictive probability prealocation\n",
        "    for k in range(K):\n",
        "        testind = shuffle[k*ntest:(k+1)*ntest] # index of trial being tested\n",
        "        if k == K-1:\n",
        "            testind = shuffle[k*ntest:] \n",
        "        Ytest = Y[testind].astype(int)\n",
        "        trainind = np.delete(shuffle,np.arange(k*ntest,(k+1)*ntest)) # index of trial being used for training\n",
        "        trainind = trainind[training_stims[trainind]] # Keeping only long ISI \n",
        "        Xtrain = X[trainind,:]\n",
        "        Ytrain = Y[trainind]\n",
        "\n",
        "        for b in range(nbins):\n",
        "            model = LogisticRegression(fit_intercept=False,solver='lbfgs',multi_class='auto',max_iter=10000).fit(Xtrain[:,:,b],Ytrain)\n",
        "            Coef[:,:,b,k] = model.coef_\n",
        "            Proba[testind,:,b] = model.predict_proba(X[testind,:,b])\n",
        "    all_single_stim = np.zeros((18,len(t)))\n",
        "    all_RSVP  = np.zeros((18,len(t)))\n",
        "\n",
        "    for n in stims:\n",
        "        # in isolation\n",
        "        isolated = np.argmax(Proba[single_stim_PFC & (dfPFC.StimID == n),:],axis = 1) == n\n",
        "        all_single_stim[n,:] = np.mean(isolated, axis = 0)\n",
        "        # in RSVP\n",
        "        inRSVP = np.argmax(Proba[RSVP_PFC & (dfPFC.StimID == n),:],axis = 1) == n\n",
        "        all_RSVP[n,:] = np.mean(inRSVP, axis = 0)\n",
        "    accuracy_PFC_single_stim[perm,:] = np.mean(all_single_stim,axis = 0)\n",
        "    accuracy_PFC_RSVP[perm,:] = np.mean(all_RSVP,axis = 0)"
      ],
      "execution_count": null,
      "outputs": [
        {
          "output_type": "stream",
          "name": "stderr",
          "text": [
            "100%|██████████| 50/50 [23:54<00:00, 28.68s/it]\n"
          ]
        }
      ]
    },
    {
      "cell_type": "markdown",
      "metadata": {
        "id": "Kalc877JNAnM"
      },
      "source": [
        "## Figure S5 G and H"
      ]
    },
    {
      "cell_type": "code",
      "metadata": {
        "id": "ZBCfVZA7DOrR",
        "colab": {
          "base_uri": "https://localhost:8080/",
          "height": 350
        },
        "outputId": "56749f16-057a-49cc-cd7c-6866285066b7"
      },
      "source": [
        "nperm = 2000\n",
        "fig,ax = plt.subplots(1,2,figsize = (10,5),sharey = True)\n",
        "\n",
        "real_diff = accuracy_PPC_single_stim-accuracy_PFC_single_stim\n",
        "permutdiff = np.zeros((nperm,real_diff.shape[1]))\n",
        "for i in range(nperm):\n",
        "    permutdiff[i,:] = abs(np.mean(np.matlib.repmat(np.sign(np.random.rand(real_diff.shape[0])-.5),real_diff.shape[1],1).transpose()*real_diff))\n",
        "sigpoints = cluster_perm(abs(np.mean(real_diff,axis = 0)),permutdiff,.001,.001)\n",
        "\n",
        "t = gen_time_bin(binsize,overlap,mint=tmin,maxt=tmax)+50\n",
        "\n",
        "high_bound = np.sort(accuracy_PPC_single_stim,axis = 0)[49,:]\n",
        "low_bound = np.sort(accuracy_PPC_single_stim,axis = 0)[1,:]\n",
        "ax[0].fill_between(t,high_bound,low_bound,alpha= 0.7,linewidth = 0,color = [1,0.7,0])\n",
        "ax[0].plot(t,np.mean(accuracy_PPC_single_stim, axis = 0),color = [1,0.7,0])\n",
        "\n",
        "high_bound = np.sort(accuracy_PFC_single_stim,axis = 0)[49,:]\n",
        "low_bound = np.sort(accuracy_PFC_single_stim,axis = 0)[1,:]\n",
        "ax[0].fill_between(t,high_bound,low_bound,alpha= 0.5,linewidth = 0,color = [0,0.6,0.8])\n",
        "ax[0].plot(t,np.mean(accuracy_PFC_single_stim, axis = 0),color = [0,0.6,0.8])\n",
        "\n",
        "clusters = label(sigpoints)\n",
        "for k in np.arange(1,max(clusters)+1):\n",
        "    ax[0].plot(t[clusters==k],np.ones(sum(clusters==k))*0, color = 'k',linewidth = 2) \n",
        "\n",
        "ax[0].set_xlabel('Time from stimulus onset (ms)')\n",
        "ax[0].set_ylabel('Decoding accuracy')\n",
        "ax[0].set_title('Tested on single stim')\n",
        "\n",
        "\n",
        "## Plot the accuracy on the RSVP condition\n",
        "real_diff = accuracy_PPC_RSVP-accuracy_PFC_RSVP\n",
        "permutdiff = np.zeros((nperm,real_diff.shape[1]))\n",
        "for i in range(nperm):\n",
        "    permutdiff[i,:] = abs(np.mean(np.matlib.repmat(np.sign(np.random.rand(real_diff.shape[0])-.5),real_diff.shape[1],1).transpose()*real_diff))\n",
        "sigpoints = cluster_perm(abs(np.mean(real_diff,axis = 0)),permutdiff,.001,.001)\n",
        "\n",
        "t = gen_time_bin(binsize,overlap,mint=tmin,maxt=tmax)+50\n",
        "\n",
        "\n",
        "high_bound = np.sort(accuracy_PPC_RSVP,axis = 0)[49,:]\n",
        "low_bound = np.sort(accuracy_PPC_RSVP,axis = 0)[1,:]\n",
        "ax[1].fill_between(t,high_bound,low_bound,alpha= 0.7,linewidth = 0,color = [1,0.7,0])\n",
        "ax[1].plot(t,np.mean(accuracy_PPC_RSVP, axis = 0),color = [1,0.7,0])\n",
        "\n",
        "high_bound = np.sort(accuracy_PFC_RSVP,axis = 0)[49,:]\n",
        "low_bound = np.sort(accuracy_PFC_RSVP,axis = 0)[1,:]\n",
        "ax[1].fill_between(t,high_bound,low_bound,alpha= 0.5,linewidth = 0,color = [0,0.6,0.8])\n",
        "ax[1].plot(t,np.mean(accuracy_PFC_RSVP, axis = 0),color = [0,0.6,0.8])\n",
        "\n",
        "clusters = label(sigpoints)\n",
        "for k in np.arange(1,max(clusters)+1):\n",
        "    ax[1].plot(t[clusters==k],np.ones(sum(clusters==k))*0, color = 'k',linewidth = 2) \n",
        "\n",
        "ax[1].set_xlabel('Time from stimulus onset (ms)')\n",
        "ax[1].set_ylabel('Decoding accuracy')\n",
        "ax[1].set_title('Tested on RSVP')\n",
        "sb.despine()\n",
        "fig.savefig('monkeyH_PFC_VS_PPC_RSVP.pdf')"
      ],
      "execution_count": null,
      "outputs": [
        {
          "output_type": "display_data",
          "data": {
            "image/png": "[encoded data removed]",
            "text/plain": [
              "<Figure size 720x360 with 2 Axes>"
            ]
          },
          "metadata": {
            "needs_background": "light"
          }
        }
      ]
    },
    {
      "cell_type": "code",
      "metadata": {
        "id": "rhXhhT7ZDOrU"
      },
      "source": [
        ""
      ],
      "execution_count": null,
      "outputs": []
    }
  ]
}